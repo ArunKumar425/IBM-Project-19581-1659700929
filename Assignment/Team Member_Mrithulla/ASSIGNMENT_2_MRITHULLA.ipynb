{
  "nbformat": 4,
  "nbformat_minor": 0,
  "metadata": {
    "colab": {
      "provenance": []
    },
    "kernelspec": {
      "name": "python3",
      "display_name": "Python 3"
    },
    "language_info": {
      "name": "python"
    }
  },
  "cells": [
    {
      "cell_type": "code",
      "execution_count": 1,
      "metadata": {
        "colab": {
          "base_uri": "https://localhost:8080/"
        },
        "id": "Pp5lbS0W-SKU",
        "outputId": "6250b260-557f-4e91-b69c-dfac83ae4d8f"
      },
      "outputs": [
        {
          "output_type": "stream",
          "name": "stdout",
          "text": [
            "1.TEMPERATURE IS 40 DEGREE CELCIUS\n",
            "40 DEGREES IS HIGH TEMPERATURE!!- ALARM\n",
            "2.HUMIDITY IS 52\n",
            "52% HUMIDITY IS NORMAL\n"
          ]
        }
      ],
      "source": [
        "import random\n",
        "temp=random.randint(20,50) #getting random values for temperature\n",
        "print(\"1.TEMPERATURE IS {} DEGREE CELCIUS\".format(temp))\n",
        "def temperature(temp):\n",
        "  if(temp>=40):\n",
        "      print(\"{} DEGREES IS HIGH TEMPERATURE!!- ALARM\".format(temp))\n",
        "  else:\n",
        "      print(\"{} DEGREES IS NORMAL TEMPERATURE\".format(temp))\n",
        "temperature(temp)\n",
        "humi=random.randint(30,65) #getting random values for temperature\n",
        "print(\"2.HUMIDITY IS {}\".format(humi))\n",
        "def humidity(humi):\n",
        "  if(humi>60):\n",
        "      print(\"{}% HUMIDITY IS HIGH !!- ALARM\".format(humi))\n",
        "  else:\n",
        "      print(\"{}% HUMIDITY IS NORMAL\".format(humi))\n",
        "humidity(humi)"
      ]
    }
  ]
}