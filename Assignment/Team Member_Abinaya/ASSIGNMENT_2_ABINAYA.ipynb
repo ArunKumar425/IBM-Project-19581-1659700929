{
  "nbformat": 4,
  "nbformat_minor": 0,
  "metadata": {
    "colab": {
      "provenance": []
    },
    "kernelspec": {
      "name": "python3",
      "display_name": "Python 3"
    },
    "language_info": {
      "name": "python"
    }
  },
  "cells": [
    {
      "cell_type": "code",
      "execution_count": 1,
      "metadata": {
        "colab": {
          "base_uri": "https://localhost:8080/"
        },
        "id": "U8kMt_bE0ib-",
        "outputId": "ea856649-a703-4263-969f-51a25f0191ec"
      },
      "outputs": [
        {
          "output_type": "stream",
          "name": "stdout",
          "text": [
            "1.TEMPERATURE IS 32 DEGREE CELCIUS\n",
            "32 DEGREES IS NORMAL TEMPERATURE\n",
            "2.HUMIDITY IS 49\n",
            "49% HUMIDITY IS NORMAL\n"
          ]
        }
      ],
      "source": [
        "import random\n",
        "temp=random.randint(20,50) #getting random values for temperature\n",
        "print(\"1.TEMPERATURE IS {} DEGREE CELCIUS\".format(temp))\n",
        "def temperature(temp):\n",
        "  if(temp>=40):\n",
        "      print(\"{} DEGREES IS HIGH TEMPERATURE!!- ALARM\".format(temp))\n",
        "  else:\n",
        "      print(\"{} DEGREES IS NORMAL TEMPERATURE\".format(temp))\n",
        "temperature(temp)\n",
        "humi=random.randint(30,65) #getting random values for temperature\n",
        "print(\"2.HUMIDITY IS {}\".format(humi))\n",
        "def humidity(humi):\n",
        "  if(humi>60):\n",
        "      print(\"{}% HUMIDITY IS HIGH !!- ALARM\".format(humi))\n",
        "  else:\n",
        "      print(\"{}% HUMIDITY IS NORMAL\".format(humi))\n",
        "humidity(humi)"
      ]
    }
  ]
}