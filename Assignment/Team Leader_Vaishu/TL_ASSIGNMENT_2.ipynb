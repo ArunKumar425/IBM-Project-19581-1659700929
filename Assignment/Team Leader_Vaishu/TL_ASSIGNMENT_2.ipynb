{
  "nbformat": 4,
  "nbformat_minor": 0,
  "metadata": {
    "colab": {
      "provenance": [],
      "collapsed_sections": []
    },
    "kernelspec": {
      "name": "python3",
      "display_name": "Python 3"
    },
    "language_info": {
      "name": "python"
    }
  },
  "cells": [
    {
      "cell_type": "code",
      "execution_count": null,
      "metadata": {
        "id": "vLXWk7iFSWDE"
      },
      "outputs": [],
      "source": []
    },
    {
      "cell_type": "markdown",
      "source": [
        "**ASSIGNMENT 2**"
      ],
      "metadata": {
        "id": "YJUTUGEcSXjx"
      }
    },
    {
      "cell_type": "markdown",
      "source": [
        "Building a python code. Assuming that we get temperature and humidity values and writing a condition to continually detect alarm in case of high temperature."
      ],
      "metadata": {
        "id": "RZ6PU-5qSZyl"
      }
    },
    {
      "cell_type": "code",
      "source": [
        "import random\n",
        "temp=random.randint(20,50) #getting random values for temperature\n",
        "print(\"1.TEMPERATURE IS {} DEGREE CELCIUS\".format(temp))\n",
        "def temperature(temp):\n",
        "  if(temp>=40):\n",
        "      print(\"{} DEGREES IS HIGH TEMPERATURE!!- ALARM\".format(temp))\n",
        "  else:\n",
        "      print(\"{} DEGREES IS NORMAL TEMPERATURE\".format(temp))\n",
        "temperature(temp)\n",
        "humi=random.randint(30,65) #getting random values for temperature\n",
        "print(\"2.HUMIDITY IS {}\".format(humi))\n",
        "def humidity(humi):\n",
        "  if(humi>60):\n",
        "      print(\"{}% HUMIDITY IS HIGH !!- ALARM\".format(humi))\n",
        "  else:\n",
        "      print(\"{}% HUMIDITY IS NORMAL\".format(humi))\n",
        "humidity(humi)\n",
        "\n",
        "\n",
        "\n"
      ],
      "metadata": {
        "colab": {
          "base_uri": "https://localhost:8080/"
        },
        "id": "Ju7dhwSipsDd",
        "outputId": "15b82910-6d1b-430a-abab-4ccfaa7838c1"
      },
      "execution_count": 117,
      "outputs": [
        {
          "output_type": "stream",
          "name": "stdout",
          "text": [
            "1.TEMPERATURE IS 31 DEGREE CELCIUS\n",
            "31 DEGREES IS NORMAL TEMPERATURE\n",
            "2.HUMIDITY IS 53\n",
            "53% HUMIDITY IS NORMAL\n"
          ]
        }
      ]
    },
    {
      "cell_type": "code",
      "source": [],
      "metadata": {
        "id": "D8rjLnrC3Ese"
      },
      "execution_count": null,
      "outputs": []
    }
  ]
}