{
  "nbformat": 4,
  "nbformat_minor": 0,
  "metadata": {
    "colab": {
      "provenance": []
    },
    "kernelspec": {
      "name": "python3",
      "display_name": "Python 3"
    },
    "language_info": {
      "name": "python"
    }
  },
  "cells": [
    {
      "cell_type": "markdown",
      "source": [
        "To write a python code for LED blinking using RASPBERRY Pi "
      ],
      "metadata": {
        "id": "kWo_iiBchUZm"
      }
    },
    {
      "cell_type": "code",
      "source": [
        "!pip install RPi.GPIO               #installing the library\n",
        "import sys\n",
        "import time\n",
        "import RPi.GPIO as GPIO             #importing GPIO library\n",
        "LED_PIN = 17\n",
        "GPIO.setmode(GPIO.BCM)\n",
        "GPIO.setup(LED_PIN, GPIO.OUT)\n",
        "while True:\n",
        "    GPIO.output(LED_PIN, GPIO.HIGH) #turning ON LED\n",
        "    time.sleep(0.5)                 #waiting for 0.5 seconds\n",
        "    GPIO.output(LED_PIN, GPIO.LOW)  #turning OFF LED\n",
        "    time.sleep(0.5)                 #waiting for 0.5 seconds\n",
        "GPIO.cleanup()"
      ],
      "metadata": {
        "id": "dfOO6_CglryP"
      },
      "execution_count": null,
      "outputs": []
    },
    {
      "cell_type": "markdown",
      "source": [
        "To write a python code for Traffic light blinking using RASPBERRY Pi"
      ],
      "metadata": {
        "id": "5Kp3H0eRl99a"
      }
    },
    {
      "cell_type": "code",
      "source": [
        "!pip install RPi.GPIO\n",
        "import sys\n",
        "import time\n",
        "import signal\n",
        "import RPi.GPIO as GPIO\n",
        "GPIO.setmode(GPIO.BCM)\n",
        "GPIO.setup(9, GPIO.OUT)\n",
        "GPIO.setup(10, GPIO.OUT)\n",
        "GPIO.setup(11, GPIO.OUT)\n",
        "def allLightsOff(signal, frame):\n",
        "    GPIO.output(9, False)\n",
        "    GPIO.output(10, False)\n",
        "    GPIO.output(11, False)\n",
        "    GPIO.cleanup()\n",
        "    sys.exit(0)\n",
        "signal.signal(signal.SIGINT, allLightsOff)\n",
        "while True: \n",
        "    # Red \n",
        "    GPIO.output(9, True) \n",
        "    time.sleep(3)  \n",
        "    # Red and amber \n",
        "    GPIO.output(10, True) \n",
        "    time.sleep(1)  \n",
        "    # Green \n",
        "    GPIO.output(9, False) \n",
        "    GPIO.output(10, False) \n",
        "    GPIO.output(11, True) \n",
        "    time.sleep(5)  \n",
        "    # Amber \n",
        "    GPIO.output(11, False) \n",
        "    GPIO.output(10, True) \n",
        "    time.sleep(2)  \n",
        "    # Amber off (red comes on at top of loop) \n",
        "    GPIO.output(10, False)"
      ],
      "metadata": {
        "id": "2GaAdnwQm3ry"
      },
      "execution_count": null,
      "outputs": []
    }
  ]
}