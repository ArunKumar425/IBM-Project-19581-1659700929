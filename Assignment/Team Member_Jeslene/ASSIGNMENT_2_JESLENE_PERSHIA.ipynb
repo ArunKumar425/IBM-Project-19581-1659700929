{
  "nbformat": 4,
  "nbformat_minor": 0,
  "metadata": {
    "colab": {
      "provenance": []
    },
    "kernelspec": {
      "name": "python3",
      "display_name": "Python 3"
    },
    "language_info": {
      "name": "python"
    }
  },
  "cells": [
    {
      "cell_type": "code",
      "execution_count": 1,
      "metadata": {
        "colab": {
          "base_uri": "https://localhost:8080/"
        },
        "id": "8cy23Lg_H0aE",
        "outputId": "589dedb4-8c69-4faf-81f6-6c639e5b59ef"
      },
      "outputs": [
        {
          "output_type": "stream",
          "name": "stdout",
          "text": [
            "1.TEMPERATURE IS 33 DEGREE CELCIUS\n",
            "33 DEGREES IS NORMAL TEMPERATURE\n",
            "2.HUMIDITY IS 60\n",
            "60% HUMIDITY IS NORMAL\n"
          ]
        }
      ],
      "source": [
        "import random\n",
        "temp=random.randint(20,50) #getting random values for temperature\n",
        "print(\"1.TEMPERATURE IS {} DEGREE CELCIUS\".format(temp))\n",
        "def temperature(temp):\n",
        "  if(temp>=40):\n",
        "      print(\"{} DEGREES IS HIGH TEMPERATURE!!- ALARM\".format(temp))\n",
        "  else:\n",
        "      print(\"{} DEGREES IS NORMAL TEMPERATURE\".format(temp))\n",
        "temperature(temp)\n",
        "humi=random.randint(30,65) #getting random values for temperature\n",
        "print(\"2.HUMIDITY IS {}\".format(humi))\n",
        "def humidity(humi):\n",
        "  if(humi>60):\n",
        "      print(\"{}% HUMIDITY IS HIGH !!- ALARM\".format(humi))\n",
        "  else:\n",
        "      print(\"{}% HUMIDITY IS NORMAL\".format(humi))\n",
        "humidity(humi)"
      ]
    }
  ]
}